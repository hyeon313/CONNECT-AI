{
 "cells": [
  {
   "cell_type": "code",
   "execution_count": 1,
   "metadata": {},
   "outputs": [
    {
     "ename": "SystemExit",
     "evalue": "0",
     "output_type": "error",
     "traceback": [
      "An exception has occurred, use %tb to see the full traceback.\n",
      "\u001b[0;31mSystemExit\u001b[0m\u001b[0;31m:\u001b[0m 0\n"
     ]
    },
    {
     "name": "stderr",
     "output_type": "stream",
     "text": [
      "/home/park/anaconda3/lib/python3.7/site-packages/IPython/core/interactiveshell.py:3339: UserWarning: To exit: use 'exit', 'quit', or Ctrl-D.\n",
      "  warn(\"To exit: use 'exit', 'quit', or Ctrl-D.\", stacklevel=1)\n"
     ]
    }
   ],
   "source": [
    "import sys\n",
    "from PyQt5.QtWidgets import QApplication, QLabel, QWidget\n",
    "from PyQt5.QtWidgets import QHBoxLayout, QVBoxLayout\n",
    "from PyQt5.QtGui import QPixmap\n",
    "from PyQt5.QtCore import Qt\n",
    "\n",
    "class MyApp(QWidget):\n",
    "\n",
    "    def __init__(self):\n",
    "        super().__init__()\n",
    "        self.initUI()\n",
    "        \n",
    "    def initUI(self):\n",
    "        original_img = QPixmap('print.png')\n",
    "        blending_img = QPixmap('save.png')\n",
    "\n",
    "        lbl_original_img = QLabel()\n",
    "        lbl_original_img.setPixmap(original_img)\n",
    "        lbl_original_img.mouseMoveEvent = self.mouseMoveEvent\n",
    "        \n",
    "        lbl_blending_img = QLabel()\n",
    "        lbl_blending_img.setPixmap(blending_img)\n",
    "        lbl_blending_img.mouseMoveEvent = self.mouseMoveEvent\n",
    "        \n",
    "        self.lbl_pos = QLabel()\n",
    "        self.lbl_pos.setAlignment(Qt.AlignCenter)\n",
    "\n",
    "        hbox = QHBoxLayout()\n",
    "        hbox.addWidget(lbl_original_img)\n",
    "        hbox.addWidget(lbl_blending_img)\n",
    "        \n",
    "        vbox = QVBoxLayout()\n",
    "#         vbox.addStretch(1)\n",
    "        vbox.addLayout(hbox)\n",
    "        vbox.addWidget(self.lbl_pos)\n",
    "#         vbox.addStretch(1)\n",
    "        \n",
    "        self.setLayout(vbox)\n",
    "        \n",
    "        lbl_original_img.setMouseTracking(True)\n",
    "        lbl_blending_img.setMouseTracking(True)\n",
    "        \n",
    "        self.setWindowTitle('Test Image')\n",
    "#         self.setGeometry(300, 300, 300, 200)\n",
    "        self.move(300, 300)\n",
    "        self.show()\n",
    "        \n",
    "#     def openImage(self):  \n",
    "        \n",
    "    def mouseMoveEvent(self, event):\n",
    "        txt = \"Mouse 위치 ; x={0},y={1}\".format(event.x(), event.y()) \n",
    "        self.lbl_pos.setText(txt)\n",
    "        self.lbl_pos.adjustSize()\n",
    "        \n",
    "if __name__ == '__main__':\n",
    "    app = QApplication(sys.argv)\n",
    "    ex = MyApp()\n",
    "    sys.exit(app.exec_())"
   ]
  },
  {
   "cell_type": "code",
   "execution_count": null,
   "metadata": {},
   "outputs": [],
   "source": []
  }
 ],
 "metadata": {
  "kernelspec": {
   "display_name": "Python 3",
   "language": "python",
   "name": "python3"
  },
  "language_info": {
   "codemirror_mode": {
    "name": "ipython",
    "version": 3
   },
   "file_extension": ".py",
   "mimetype": "text/x-python",
   "name": "python",
   "nbconvert_exporter": "python",
   "pygments_lexer": "ipython3",
   "version": "3.7.6"
  }
 },
 "nbformat": 4,
 "nbformat_minor": 4
}
